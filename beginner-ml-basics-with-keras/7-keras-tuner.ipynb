{
 "cells": [
  {
   "cell_type": "code",
   "execution_count": 1,
   "metadata": {},
   "outputs": [],
   "source": [
    "import tensorflow as tf\n",
    "from tensorflow import keras\n",
    "\n",
    "import IPython\n",
    "\n",
    "# !pip install -q -U keras-tuner\n",
    "import kerastuner as kt"
   ]
  },
  {
   "cell_type": "code",
   "execution_count": 2,
   "metadata": {},
   "outputs": [],
   "source": [
    "(img_train, label_train), (img_test, label_test) = keras.datasets.fashion_mnist.load_data()\n",
    "# Normalize pixel values between 0 and 1\n",
    "img_train = img_train.astype('float32') / 255.0\n",
    "img_test = img_test.astype('float32') / 255.0\n",
    "\n",
    "def model_builder(hp):\n",
    "    model = keras.Sequential()\n",
    "    model.add(keras.layers.Flatten(input_shape=(28, 28)))\n",
    "\n",
    "    # Tune the number of units in the first Dense layer\n",
    "    # Choose an optimal value between 32-512\n",
    "    hp_units = hp.Int('units', min_value = 32, max_value = 512, step = 32)\n",
    "    model.add(keras.layers.Dense(units = hp_units, activation = 'relu'))\n",
    "    model.add(keras.layers.Dense(10))\n",
    "\n",
    "    # Tune the learning rate for the optimizer \n",
    "    # Choose an optimal value from 0.01, 0.001, or 0.0001\n",
    "    hp_learning_rate = hp.Choice('learning_rate', values = [1e-2, 1e-3, 1e-4]) \n",
    "\n",
    "    model.compile(optimizer = keras.optimizers.Adam(learning_rate = hp_learning_rate),\n",
    "                loss = keras.losses.SparseCategoricalCrossentropy(from_logits = True), \n",
    "                metrics = ['accuracy'])\n",
    "\n",
    "    return model"
   ]
  },
  {
   "cell_type": "markdown",
   "metadata": {},
   "source": [
    "#### Instantiate the tuner to perform the hypertuning. The Keras Tuner has four tuners available - RandomSearch, Hyperband, BayesianOptimization, and Sklearn. In this tutorial, you use the Hyperband tuner."
   ]
  },
  {
   "cell_type": "code",
   "execution_count": 3,
   "metadata": {},
   "outputs": [],
   "source": [
    "tuner = kt.Hyperband(model_builder,\n",
    "                     objective = 'val_accuracy', \n",
    "                     max_epochs = 10,\n",
    "                     factor = 3,\n",
    "                     directory = 'my_dir',\n",
    "                     project_name = 'intro_to_kt')    \n",
    "\n",
    "class ClearTrainingOutput(tf.keras.callbacks.Callback):\n",
    "    def on_train_end(*args, **kwargs):\n",
    "        IPython.display.clear_output(wait = True)"
   ]
  },
  {
   "cell_type": "code",
   "execution_count": null,
   "metadata": {},
   "outputs": [
    {
     "data": {
      "text/html": [
       "<span style=\"color:#4527A0\"><h1 style=\"font-size:18px\">Trial complete</h1></span>"
      ],
      "text/plain": [
       "<IPython.core.display.HTML object>"
      ]
     },
     "metadata": {},
     "output_type": "display_data"
    },
    {
     "data": {
      "text/html": [
       "<span style=\"color:#4527A0\"><h1 style=\"font-size:18px\">Trial summary</h1></span>"
      ],
      "text/plain": [
       "<IPython.core.display.HTML object>"
      ]
     },
     "metadata": {},
     "output_type": "display_data"
    },
    {
     "data": {
      "text/html": [
       "<span style=\"color:cyan\"> |-Trial ID: 3dd1a45a09fff4be8700c7aeadaea979</span>"
      ],
      "text/plain": [
       "<IPython.core.display.HTML object>"
      ]
     },
     "metadata": {},
     "output_type": "display_data"
    },
    {
     "data": {
      "text/html": [
       "<span style=\"color:cyan\"> |-Score: 0.8452000021934509</span>"
      ],
      "text/plain": [
       "<IPython.core.display.HTML object>"
      ]
     },
     "metadata": {},
     "output_type": "display_data"
    },
    {
     "data": {
      "text/html": [
       "<span style=\"color:cyan\"> |-Best step: 0</span>"
      ],
      "text/plain": [
       "<IPython.core.display.HTML object>"
      ]
     },
     "metadata": {},
     "output_type": "display_data"
    },
    {
     "data": {
      "text/html": [
       "<span style=\"color:#7E57C2\"><h2 style=\"font-size:16px\">Hyperparameters:</h2></span>"
      ],
      "text/plain": [
       "<IPython.core.display.HTML object>"
      ]
     },
     "metadata": {},
     "output_type": "display_data"
    },
    {
     "data": {
      "text/html": [
       "<span style=\"color:cyan\"> |-learning_rate: 0.0001</span>"
      ],
      "text/plain": [
       "<IPython.core.display.HTML object>"
      ]
     },
     "metadata": {},
     "output_type": "display_data"
    },
    {
     "data": {
      "text/html": [
       "<span style=\"color:blue\"> |-tuner/bracket: 2</span>"
      ],
      "text/plain": [
       "<IPython.core.display.HTML object>"
      ]
     },
     "metadata": {},
     "output_type": "display_data"
    },
    {
     "data": {
      "text/html": [
       "<span style=\"color:cyan\"> |-tuner/epochs: 4</span>"
      ],
      "text/plain": [
       "<IPython.core.display.HTML object>"
      ]
     },
     "metadata": {},
     "output_type": "display_data"
    },
    {
     "data": {
      "text/html": [
       "<span style=\"color:blue\"> |-tuner/initial_epoch: 2</span>"
      ],
      "text/plain": [
       "<IPython.core.display.HTML object>"
      ]
     },
     "metadata": {},
     "output_type": "display_data"
    },
    {
     "data": {
      "text/html": [
       "<span style=\"color:cyan\"> |-tuner/round: 1</span>"
      ],
      "text/plain": [
       "<IPython.core.display.HTML object>"
      ]
     },
     "metadata": {},
     "output_type": "display_data"
    },
    {
     "data": {
      "text/html": [
       "<span style=\"color:blue\"> |-tuner/trial_id: f9ee8e8cd90cfe8c362100b449f78a98</span>"
      ],
      "text/plain": [
       "<IPython.core.display.HTML object>"
      ]
     },
     "metadata": {},
     "output_type": "display_data"
    },
    {
     "data": {
      "text/html": [
       "<span style=\"color:cyan\"> |-units: 384</span>"
      ],
      "text/plain": [
       "<IPython.core.display.HTML object>"
      ]
     },
     "metadata": {},
     "output_type": "display_data"
    },
    {
     "name": "stdout",
     "output_type": "stream",
     "text": [
      "Epoch 5/10\n",
      "1875/1875 [==============================] - ETA: 1s - loss: 2.3582 - accuracy: 0.03 - ETA: 11s - loss: 1.6701 - accuracy: 0.395 - ETA: 12s - loss: 1.3916 - accuracy: 0.507 - ETA: 12s - loss: 1.2430 - accuracy: 0.559 - ETA: 12s - loss: 1.1696 - accuracy: 0.581 - ETA: 12s - loss: 1.1067 - accuracy: 0.599 - ETA: 12s - loss: 1.0526 - accuracy: 0.620 - ETA: 12s - loss: 1.0076 - accuracy: 0.639 - ETA: 12s - loss: 0.9595 - accuracy: 0.658 - ETA: 12s - loss: 0.9355 - accuracy: 0.664 - ETA: 12s - loss: 0.9105 - accuracy: 0.676 - ETA: 12s - loss: 0.8912 - accuracy: 0.684 - ETA: 12s - loss: 0.8791 - accuracy: 0.688 - ETA: 12s - loss: 0.8574 - accuracy: 0.695 - ETA: 12s - loss: 0.8415 - accuracy: 0.700 - ETA: 12s - loss: 0.8304 - accuracy: 0.704 - ETA: 12s - loss: 0.8135 - accuracy: 0.710 - ETA: 12s - loss: 0.8067 - accuracy: 0.714 - ETA: 12s - loss: 0.8012 - accuracy: 0.715 - ETA: 11s - loss: 0.7930 - accuracy: 0.718 - ETA: 11s - loss: 0.7843 - accuracy: 0.720 - ETA: 11s - loss: 0.7741 - accuracy: 0.723 - ETA: 11s - loss: 0.7688 - accuracy: 0.724 - ETA: 11s - loss: 0.7617 - accuracy: 0.727 - ETA: 11s - loss: 0.7552 - accuracy: 0.730 - ETA: 11s - loss: 0.7479 - accuracy: 0.733 - ETA: 11s - loss: 0.7442 - accuracy: 0.735 - ETA: 11s - loss: 0.7388 - accuracy: 0.737 - ETA: 11s - loss: 0.7346 - accuracy: 0.738 - ETA: 11s - loss: 0.7287 - accuracy: 0.740 - ETA: 11s - loss: 0.7243 - accuracy: 0.742 - ETA: 11s - loss: 0.7203 - accuracy: 0.744 - ETA: 11s - loss: 0.7138 - accuracy: 0.746 - ETA: 11s - loss: 0.7085 - accuracy: 0.748 - ETA: 11s - loss: 0.7070 - accuracy: 0.749 - ETA: 11s - loss: 0.7022 - accuracy: 0.751 - ETA: 11s - loss: 0.6996 - accuracy: 0.752 - ETA: 11s - loss: 0.6965 - accuracy: 0.754 - ETA: 11s - loss: 0.6905 - accuracy: 0.756 - ETA: 11s - loss: 0.6853 - accuracy: 0.758 - ETA: 11s - loss: 0.6815 - accuracy: 0.760 - ETA: 11s - loss: 0.6781 - accuracy: 0.761 - ETA: 11s - loss: 0.6747 - accuracy: 0.762 - ETA: 11s - loss: 0.6687 - accuracy: 0.764 - ETA: 11s - loss: 0.6674 - accuracy: 0.765 - ETA: 11s - loss: 0.6627 - accuracy: 0.767 - ETA: 11s - loss: 0.6596 - accuracy: 0.768 - ETA: 11s - loss: 0.6584 - accuracy: 0.768 - ETA: 11s - loss: 0.6558 - accuracy: 0.769 - ETA: 10s - loss: 0.6533 - accuracy: 0.770 - ETA: 10s - loss: 0.6509 - accuracy: 0.771 - ETA: 10s - loss: 0.6477 - accuracy: 0.772 - ETA: 10s - loss: 0.6446 - accuracy: 0.773 - ETA: 10s - loss: 0.6413 - accuracy: 0.774 - ETA: 10s - loss: 0.6372 - accuracy: 0.776 - ETA: 10s - loss: 0.6344 - accuracy: 0.777 - ETA: 10s - loss: 0.6306 - accuracy: 0.779 - ETA: 10s - loss: 0.6262 - accuracy: 0.781 - ETA: 10s - loss: 0.6241 - accuracy: 0.782 - ETA: 10s - loss: 0.6234 - accuracy: 0.782 - ETA: 10s - loss: 0.6215 - accuracy: 0.783 - ETA: 10s - loss: 0.6206 - accuracy: 0.784 - ETA: 10s - loss: 0.6201 - accuracy: 0.784 - ETA: 10s - loss: 0.6172 - accuracy: 0.784 - ETA: 10s - loss: 0.6141 - accuracy: 0.786 - ETA: 9s - loss: 0.6103 - accuracy: 0.787 - ETA: 9s - loss: 0.6070 - accuracy: 0.78 - ETA: 9s - loss: 0.6049 - accuracy: 0.78 - ETA: 9s - loss: 0.6040 - accuracy: 0.78 - ETA: 9s - loss: 0.6011 - accuracy: 0.79 - ETA: 9s - loss: 0.5986 - accuracy: 0.79 - ETA: 9s - loss: 0.5964 - accuracy: 0.79 - ETA: 9s - loss: 0.5965 - accuracy: 0.79 - ETA: 9s - loss: 0.5972 - accuracy: 0.79 - ETA: 9s - loss: 0.5946 - accuracy: 0.79 - ETA: 9s - loss: 0.5929 - accuracy: 0.79 - ETA: 9s - loss: 0.5921 - accuracy: 0.79 - ETA: 9s - loss: 0.5911 - accuracy: 0.79 - ETA: 9s - loss: 0.5895 - accuracy: 0.79 - ETA: 9s - loss: 0.5888 - accuracy: 0.79 - ETA: 8s - loss: 0.5876 - accuracy: 0.79 - ETA: 8s - loss: 0.5868 - accuracy: 0.79 - ETA: 8s - loss: 0.5872 - accuracy: 0.79 - ETA: 8s - loss: 0.5854 - accuracy: 0.79 - ETA: 8s - loss: 0.5846 - accuracy: 0.79 - ETA: 8s - loss: 0.5841 - accuracy: 0.79 - ETA: 8s - loss: 0.5841 - accuracy: 0.79 - ETA: 8s - loss: 0.5839 - accuracy: 0.79 - ETA: 8s - loss: 0.5822 - accuracy: 0.79 - ETA: 8s - loss: 0.5807 - accuracy: 0.79 - ETA: 8s - loss: 0.5798 - accuracy: 0.79 - ETA: 8s - loss: 0.5766 - accuracy: 0.79 - ETA: 8s - loss: 0.5758 - accuracy: 0.79 - ETA: 8s - loss: 0.5754 - accuracy: 0.79 - ETA: 8s - loss: 0.5743 - accuracy: 0.79 - ETA: 8s - loss: 0.5726 - accuracy: 0.80 - ETA: 8s - loss: 0.5717 - accuracy: 0.80 - ETA: 8s - loss: 0.5713 - accuracy: 0.80 - ETA: 8s - loss: 0.5703 - accuracy: 0.80 - ETA: 7s - loss: 0.5705 - accuracy: 0.80 - ETA: 7s - loss: 0.5692 - accuracy: 0.80 - ETA: 7s - loss: 0.5687 - accuracy: 0.80 - ETA: 7s - loss: 0.5673 - accuracy: 0.80 - ETA: 7s - loss: 0.5664 - accuracy: 0.80 - ETA: 7s - loss: 0.5652 - accuracy: 0.80 - ETA: 7s - loss: 0.5642 - accuracy: 0.80 - ETA: 7s - loss: 0.5635 - accuracy: 0.80 - ETA: 7s - loss: 0.5620 - accuracy: 0.80 - ETA: 7s - loss: 0.5607 - accuracy: 0.80 - ETA: 7s - loss: 0.5588 - accuracy: 0.80 - ETA: 7s - loss: 0.5579 - accuracy: 0.80 - ETA: 7s - loss: 0.5569 - accuracy: 0.80 - ETA: 7s - loss: 0.5553 - accuracy: 0.80 - ETA: 7s - loss: 0.5537 - accuracy: 0.80 - ETA: 7s - loss: 0.5529 - accuracy: 0.80 - ETA: 7s - loss: 0.5524 - accuracy: 0.80 - ETA: 7s - loss: 0.5521 - accuracy: 0.80 - ETA: 7s - loss: 0.5515 - accuracy: 0.80 - ETA: 7s - loss: 0.5511 - accuracy: 0.80 - ETA: 7s - loss: 0.5503 - accuracy: 0.80 - ETA: 7s - loss: 0.5497 - accuracy: 0.80 - ETA: 7s - loss: 0.5493 - accuracy: 0.80 - ETA: 7s - loss: 0.5490 - accuracy: 0.80 - ETA: 7s - loss: 0.5485 - accuracy: 0.80 - ETA: 7s - loss: 0.5477 - accuracy: 0.80 - ETA: 7s - loss: 0.5475 - accuracy: 0.80 - ETA: 7s - loss: 0.5463 - accuracy: 0.80 - ETA: 7s - loss: 0.5454 - accuracy: 0.80 - ETA: 6s - loss: 0.5448 - accuracy: 0.80 - ETA: 6s - loss: 0.5445 - accuracy: 0.80 - ETA: 6s - loss: 0.5441 - accuracy: 0.80 - ETA: 6s - loss: 0.5433 - accuracy: 0.80 - ETA: 6s - loss: 0.5422 - accuracy: 0.80 - ETA: 6s - loss: 0.5409 - accuracy: 0.80 - ETA: 6s - loss: 0.5405 - accuracy: 0.80 - ETA: 6s - loss: 0.5405 - accuracy: 0.80 - ETA: 6s - loss: 0.5401 - accuracy: 0.80 - ETA: 6s - loss: 0.5390 - accuracy: 0.80 - ETA: 6s - loss: 0.5381 - accuracy: 0.80 - ETA: 6s - loss: 0.5370 - accuracy: 0.81 - ETA: 6s - loss: 0.5365 - accuracy: 0.81 - ETA: 6s - loss: 0.5361 - accuracy: 0.81 - ETA: 6s - loss: 0.5349 - accuracy: 0.81 - ETA: 6s - loss: 0.5342 - accuracy: 0.81 - ETA: 6s - loss: 0.5338 - accuracy: 0.81 - ETA: 6s - loss: 0.5334 - accuracy: 0.81 - ETA: 6s - loss: 0.5326 - accuracy: 0.81 - ETA: 5s - loss: 0.5316 - accuracy: 0.81 - ETA: 5s - loss: 0.5301 - accuracy: 0.81 - ETA: 5s - loss: 0.5288 - accuracy: 0.81 - ETA: 5s - loss: 0.5274 - accuracy: 0.81 - ETA: 5s - loss: 0.5270 - accuracy: 0.81 - ETA: 5s - loss: 0.5263 - accuracy: 0.81 - ETA: 5s - loss: 0.5258 - accuracy: 0.81 - ETA: 5s - loss: 0.5252 - accuracy: 0.81 - ETA: 5s - loss: 0.5247 - accuracy: 0.81 - ETA: 5s - loss: 0.5239 - accuracy: 0.81 - ETA: 5s - loss: 0.5231 - accuracy: 0.81 - ETA: 5s - loss: 0.5219 - accuracy: 0.81 - ETA: 5s - loss: 0.5208 - accuracy: 0.81 - ETA: 5s - loss: 0.5205 - accuracy: 0.81 - ETA: 5s - loss: 0.5204 - accuracy: 0.81 - ETA: 5s - loss: 0.5210 - accuracy: 0.81 - ETA: 5s - loss: 0.5208 - accuracy: 0.81 - ETA: 4s - loss: 0.5202 - accuracy: 0.81 - ETA: 4s - loss: 0.5194 - accuracy: 0.81 - ETA: 4s - loss: 0.5189 - accuracy: 0.81 - ETA: 4s - loss: 0.5187 - accuracy: 0.81 - ETA: 4s - loss: 0.5184 - accuracy: 0.81 - ETA: 4s - loss: 0.5182 - accuracy: 0.81 - ETA: 4s - loss: 0.5174 - accuracy: 0.81 - ETA: 4s - loss: 0.5162 - accuracy: 0.81 - ETA: 4s - loss: 0.5155 - accuracy: 0.81 - ETA: 4s - loss: 0.5145 - accuracy: 0.81 - ETA: 4s - loss: 0.5139 - accuracy: 0.81 - ETA: 4s - loss: 0.5140 - accuracy: 0.81 - ETA: 4s - loss: 0.5130 - accuracy: 0.81 - ETA: 4s - loss: 0.5121 - accuracy: 0.81 - ETA: 4s - loss: 0.5117 - accuracy: 0.81 - ETA: 4s - loss: 0.5112 - accuracy: 0.81 - ETA: 3s - loss: 0.5109 - accuracy: 0.81 - ETA: 3s - loss: 0.5103 - accuracy: 0.81 - ETA: 3s - loss: 0.5098 - accuracy: 0.81 - ETA: 3s - loss: 0.5086 - accuracy: 0.81 - ETA: 3s - loss: 0.5081 - accuracy: 0.81 - ETA: 3s - loss: 0.5073 - accuracy: 0.82 - ETA: 3s - loss: 0.5072 - accuracy: 0.82 - ETA: 3s - loss: 0.5065 - accuracy: 0.82 - ETA: 3s - loss: 0.5057 - accuracy: 0.82 - ETA: 3s - loss: 0.5048 - accuracy: 0.82 - ETA: 3s - loss: 0.5040 - accuracy: 0.82 - ETA: 3s - loss: 0.5035 - accuracy: 0.82 - ETA: 3s - loss: 0.5026 - accuracy: 0.82 - ETA: 3s - loss: 0.5019 - accuracy: 0.82 - ETA: 3s - loss: 0.5013 - accuracy: 0.82 - ETA: 3s - loss: 0.5006 - accuracy: 0.82 - ETA: 3s - loss: 0.4997 - accuracy: 0.82 - ETA: 2s - loss: 0.4989 - accuracy: 0.82 - ETA: 2s - loss: 0.4988 - accuracy: 0.82 - ETA: 2s - loss: 0.4985 - accuracy: 0.82 - ETA: 2s - loss: 0.4981 - accuracy: 0.82 - ETA: 2s - loss: 0.4982 - accuracy: 0.82 - ETA: 2s - loss: 0.4973 - accuracy: 0.82 - ETA: 2s - loss: 0.4969 - accuracy: 0.82 - ETA: 2s - loss: 0.4965 - accuracy: 0.82 - ETA: 2s - loss: 0.4958 - accuracy: 0.82 - ETA: 2s - loss: 0.4950 - accuracy: 0.82 - ETA: 2s - loss: 0.4945 - accuracy: 0.82 - ETA: 2s - loss: 0.4939 - accuracy: 0.82 - ETA: 2s - loss: 0.4932 - accuracy: 0.82 - ETA: 2s - loss: 0.4929 - accuracy: 0.82 - ETA: 2s - loss: 0.4924 - accuracy: 0.82 - ETA: 2s - loss: 0.4916 - accuracy: 0.82 - ETA: 2s - loss: 0.4908 - accuracy: 0.82 - ETA: 2s - loss: 0.4904 - accuracy: 0.82 - ETA: 1s - loss: 0.4901 - accuracy: 0.82 - ETA: 1s - loss: 0.4899 - accuracy: 0.82 - ETA: 1s - loss: 0.4895 - accuracy: 0.82 - ETA: 1s - loss: 0.4890 - accuracy: 0.82 - ETA: 1s - loss: 0.4883 - accuracy: 0.82 - ETA: 1s - loss: 0.4877 - accuracy: 0.82 - ETA: 1s - loss: 0.4876 - accuracy: 0.82 - ETA: 1s - loss: 0.4873 - accuracy: 0.82 - ETA: 1s - loss: 0.4865 - accuracy: 0.82 - ETA: 1s - loss: 0.4858 - accuracy: 0.82 - ETA: 1s - loss: 0.4850 - accuracy: 0.82 - ETA: 1s - loss: 0.4850 - accuracy: 0.82 - ETA: 1s - loss: 0.4847 - accuracy: 0.82 - ETA: 1s - loss: 0.4845 - accuracy: 0.82 - ETA: 1s - loss: 0.4839 - accuracy: 0.82 - ETA: 1s - loss: 0.4837 - accuracy: 0.82 - ETA: 1s - loss: 0.4833 - accuracy: 0.82 - ETA: 0s - loss: 0.4829 - accuracy: 0.82 - ETA: 0s - loss: 0.4824 - accuracy: 0.82 - ETA: 0s - loss: 0.4818 - accuracy: 0.82 - ETA: 0s - loss: 0.4807 - accuracy: 0.82 - ETA: 0s - loss: 0.4804 - accuracy: 0.82 - ETA: 0s - loss: 0.4801 - accuracy: 0.82 - ETA: 0s - loss: 0.4797 - accuracy: 0.82 - ETA: 0s - loss: 0.4795 - accuracy: 0.82 - ETA: 0s - loss: 0.4788 - accuracy: 0.83 - ETA: 0s - loss: 0.4780 - accuracy: 0.83 - ETA: 0s - loss: 0.4774 - accuracy: 0.83 - ETA: 0s - loss: 0.4767 - accuracy: 0.83 - ETA: 0s - loss: 0.4772 - accuracy: 0.83 - ETA: 0s - loss: 0.4775 - accuracy: 0.83 - ETA: 0s - loss: 0.4775 - accuracy: 0.83 - ETA: 0s - loss: 0.4773 - accuracy: 0.83 - ETA: 0s - loss: 0.4768 - accuracy: 0.83 - ETA: 0s - loss: 0.4768 - accuracy: 0.83 - ETA: 0s - loss: 0.4767 - accuracy: 0.83 - 15s 8ms/step - loss: 0.4766 - accuracy: 0.8306 - val_loss: 0.4021 - val_accuracy: 0.8561\n",
      "Epoch 6/10\n",
      "1875/1875 [==============================] - ETA: 0s - loss: 0.4427 - accuracy: 0.81 - ETA: 10s - loss: 0.4260 - accuracy: 0.862 - ETA: 11s - loss: 0.3663 - accuracy: 0.880 - ETA: 11s - loss: 0.3914 - accuracy: 0.861 - ETA: 11s - loss: 0.3816 - accuracy: 0.865 - ETA: 11s - loss: 0.3875 - accuracy: 0.861 - ETA: 12s - loss: 0.3807 - accuracy: 0.864 - ETA: 12s - loss: 0.3743 - accuracy: 0.867 - ETA: 12s - loss: 0.3818 - accuracy: 0.865 - ETA: 12s - loss: 0.3753 - accuracy: 0.868 - ETA: 12s - loss: 0.3702 - accuracy: 0.868 - ETA: 12s - loss: 0.3645 - accuracy: 0.869 - ETA: 12s - loss: 0.3653 - accuracy: 0.867 - ETA: 12s - loss: 0.3698 - accuracy: 0.866 - ETA: 12s - loss: 0.3690 - accuracy: 0.865 - ETA: 12s - loss: 0.3649 - accuracy: 0.867 - ETA: 12s - loss: 0.3674 - accuracy: 0.866 - ETA: 12s - loss: 0.3661 - accuracy: 0.866 - ETA: 12s - loss: 0.3622 - accuracy: 0.868 - ETA: 12s - loss: 0.3615 - accuracy: 0.869 - ETA: 12s - loss: 0.3586 - accuracy: 0.870 - ETA: 12s - loss: 0.3590 - accuracy: 0.869 - ETA: 12s - loss: 0.3563 - accuracy: 0.870 - ETA: 12s - loss: 0.3537 - accuracy: 0.871 - ETA: 11s - loss: 0.3581 - accuracy: 0.869 - ETA: 11s - loss: 0.3566 - accuracy: 0.870 - ETA: 11s - loss: 0.3558 - accuracy: 0.870 - ETA: 11s - loss: 0.3585 - accuracy: 0.869 - ETA: 11s - loss: 0.3545 - accuracy: 0.870 - ETA: 11s - loss: 0.3560 - accuracy: 0.869 - ETA: 11s - loss: 0.3542 - accuracy: 0.870 - ETA: 11s - loss: 0.3558 - accuracy: 0.869 - ETA: 11s - loss: 0.3566 - accuracy: 0.869 - ETA: 12s - loss: 0.3574 - accuracy: 0.869 - ETA: 12s - loss: 0.3581 - accuracy: 0.869 - ETA: 12s - loss: 0.3586 - accuracy: 0.868 - ETA: 12s - loss: 0.3581 - accuracy: 0.869 - ETA: 12s - loss: 0.3576 - accuracy: 0.869 - ETA: 12s - loss: 0.3590 - accuracy: 0.868 - ETA: 12s - loss: 0.3602 - accuracy: 0.868 - ETA: 12s - loss: 0.3616 - accuracy: 0.868 - ETA: 12s - loss: 0.3632 - accuracy: 0.867 - ETA: 12s - loss: 0.3633 - accuracy: 0.867 - ETA: 12s - loss: 0.3622 - accuracy: 0.868 - ETA: 12s - loss: 0.3633 - accuracy: 0.868 - ETA: 12s - loss: 0.3640 - accuracy: 0.868 - ETA: 12s - loss: 0.3652 - accuracy: 0.867 - ETA: 12s - loss: 0.3645 - accuracy: 0.867 - ETA: 13s - loss: 0.3644 - accuracy: 0.867 - ETA: 13s - loss: 0.3648 - accuracy: 0.867 - ETA: 13s - loss: 0.3649 - accuracy: 0.867 - ETA: 13s - loss: 0.3647 - accuracy: 0.868 - ETA: 13s - loss: 0.3653 - accuracy: 0.868 - ETA: 13s - loss: 0.3635 - accuracy: 0.868 - ETA: 13s - loss: 0.3643 - accuracy: 0.868 - ETA: 12s - loss: 0.3669 - accuracy: 0.867 - ETA: 12s - loss: 0.3683 - accuracy: 0.866 - ETA: 12s - loss: 0.3687 - accuracy: 0.866 - ETA: 12s - loss: 0.3709 - accuracy: 0.866 - ETA: 12s - loss: 0.3707 - accuracy: 0.866 - ETA: 12s - loss: 0.3708 - accuracy: 0.866 - ETA: 13s - loss: 0.3712 - accuracy: 0.866 - ETA: 13s - loss: 0.3712 - accuracy: 0.866 - ETA: 13s - loss: 0.3700 - accuracy: 0.866 - ETA: 13s - loss: 0.3703 - accuracy: 0.866 - ETA: 13s - loss: 0.3703 - accuracy: 0.866 - ETA: 13s - loss: 0.3703 - accuracy: 0.866 - ETA: 13s - loss: 0.3690 - accuracy: 0.867 - ETA: 13s - loss: 0.3697 - accuracy: 0.867 - ETA: 13s - loss: 0.3704 - accuracy: 0.867 - ETA: 13s - loss: 0.3702 - accuracy: 0.866 - ETA: 13s - loss: 0.3704 - accuracy: 0.866 - ETA: 13s - loss: 0.3696 - accuracy: 0.867 - ETA: 13s - loss: 0.3698 - accuracy: 0.866 - ETA: 13s - loss: 0.3703 - accuracy: 0.866 - ETA: 13s - loss: 0.3705 - accuracy: 0.866 - ETA: 13s - loss: 0.3713 - accuracy: 0.865 - ETA: 13s - loss: 0.3709 - accuracy: 0.865 - ETA: 13s - loss: 0.3713 - accuracy: 0.865 - ETA: 13s - loss: 0.3713 - accuracy: 0.865 - ETA: 13s - loss: 0.3710 - accuracy: 0.865 - ETA: 13s - loss: 0.3714 - accuracy: 0.865 - ETA: 13s - loss: 0.3720 - accuracy: 0.865 - ETA: 13s - loss: 0.3717 - accuracy: 0.865 - ETA: 13s - loss: 0.3717 - accuracy: 0.865 - ETA: 12s - loss: 0.3716 - accuracy: 0.865 - ETA: 13s - loss: 0.3721 - accuracy: 0.865 - ETA: 13s - loss: 0.3720 - accuracy: 0.864 - ETA: 13s - loss: 0.3730 - accuracy: 0.864 - ETA: 13s - loss: 0.3727 - accuracy: 0.864 - ETA: 13s - loss: 0.3724 - accuracy: 0.864 - ETA: 13s - loss: 0.3729 - accuracy: 0.864 - ETA: 13s - loss: 0.3729 - accuracy: 0.864 - ETA: 13s - loss: 0.3745 - accuracy: 0.863 - ETA: 13s - loss: 0.3742 - accuracy: 0.863 - ETA: 13s - loss: 0.3742 - accuracy: 0.863 - ETA: 13s - loss: 0.3752 - accuracy: 0.863 - ETA: 13s - loss: 0.3754 - accuracy: 0.863 - ETA: 13s - loss: 0.3752 - accuracy: 0.863 - ETA: 13s - loss: 0.3748 - accuracy: 0.863 - ETA: 12s - loss: 0.3743 - accuracy: 0.863 - ETA: 13s - loss: 0.3746 - accuracy: 0.863 - ETA: 13s - loss: 0.3738 - accuracy: 0.864 - ETA: 12s - loss: 0.3740 - accuracy: 0.864 - ETA: 12s - loss: 0.3735 - accuracy: 0.864 - ETA: 12s - loss: 0.3734 - accuracy: 0.864 - ETA: 12s - loss: 0.3738 - accuracy: 0.864 - ETA: 12s - loss: 0.3735 - accuracy: 0.863 - ETA: 12s - loss: 0.3729 - accuracy: 0.864 - ETA: 12s - loss: 0.3729 - accuracy: 0.863 - ETA: 12s - loss: 0.3735 - accuracy: 0.8 - ETA: 7s - loss: 0.3643 - accuracy: 0.86 - ETA: 7s - loss: 0.3636 - accuracy: 0.86 - ETA: 7s - loss: 0.3638 - accuracy: 0.86 - ETA: 7s - loss: 0.3638 - accuracy: 0.86 - ETA: 7s - loss: 0.3636 - accuracy: 0.86 - ETA: 7s - loss: 0.3641 - accuracy: 0.86 - ETA: 6s - loss: 0.3639 - accuracy: 0.86 - ETA: 6s - loss: 0.3646 - accuracy: 0.86 - ETA: 6s - loss: 0.3646 - accuracy: 0.86 - ETA: 6s - loss: 0.3642 - accuracy: 0.86 - ETA: 6s - loss: 0.3644 - accuracy: 0.86 - ETA: 6s - loss: 0.3642 - accuracy: 0.86 - ETA: 6s - loss: 0.3644 - accuracy: 0.86 - ETA: 6s - loss: 0.3642 - accuracy: 0.86 - ETA: 6s - loss: 0.3637 - accuracy: 0.86 - ETA: 6s - loss: 0.3630 - accuracy: 0.86 - ETA: 6s - loss: 0.3624 - accuracy: 0.86 - ETA: 6s - loss: 0.3622 - accuracy: 0.86 - ETA: 5s - loss: 0.3618 - accuracy: 0.86 - ETA: 5s - loss: 0.3622 - accuracy: 0.86 - ETA: 5s - loss: 0.3621 - accuracy: 0.86 - ETA: 5s - loss: 0.3619 - accuracy: 0.86 - ETA: 5s - loss: 0.3616 - accuracy: 0.86 - ETA: 5s - loss: 0.3611 - accuracy: 0.86 - ETA: 5s - loss: 0.3615 - accuracy: 0.86 - ETA: 5s - loss: 0.3618 - accuracy: 0.86 - ETA: 5s - loss: 0.3625 - accuracy: 0.86 - ETA: 5s - loss: 0.3631 - accuracy: 0.86 - ETA: 5s - loss: 0.3633 - accuracy: 0.86 - ETA: 5s - loss: 0.3632 - accuracy: 0.86 - ETA: 4s - loss: 0.3629 - accuracy: 0.86 - ETA: 4s - loss: 0.3627 - accuracy: 0.86 - ETA: 4s - loss: 0.3627 - accuracy: 0.86 - ETA: 4s - loss: 0.3624 - accuracy: 0.86 - ETA: 4s - loss: 0.3622 - accuracy: 0.86 - ETA: 4s - loss: 0.3620 - accuracy: 0.86 - ETA: 4s - loss: 0.3621 - accuracy: 0.86 - ETA: 4s - loss: 0.3622 - accuracy: 0.86 - ETA: 4s - loss: 0.3620 - accuracy: 0.86 - ETA: 4s - loss: 0.3623 - accuracy: 0.86 - ETA: 4s - loss: 0.3619 - accuracy: 0.86 - ETA: 4s - loss: 0.3620 - accuracy: 0.86 - ETA: 3s - loss: 0.3618 - accuracy: 0.86 - ETA: 3s - loss: 0.3619 - accuracy: 0.86 - ETA: 3s - loss: 0.3620 - accuracy: 0.86 - ETA: 3s - loss: 0.3617 - accuracy: 0.86 - ETA: 3s - loss: 0.3618 - accuracy: 0.86 - ETA: 3s - loss: 0.3615 - accuracy: 0.86 - ETA: 3s - loss: 0.3614 - accuracy: 0.86 - ETA: 3s - loss: 0.3612 - accuracy: 0.86 - ETA: 3s - loss: 0.3618 - accuracy: 0.86 - ETA: 3s - loss: 0.3614 - accuracy: 0.86 - ETA: 3s - loss: 0.3615 - accuracy: 0.86 - ETA: 3s - loss: 0.3620 - accuracy: 0.86 - ETA: 3s - loss: 0.3625 - accuracy: 0.86 - ETA: 2s - loss: 0.3625 - accuracy: 0.86 - ETA: 2s - loss: 0.3626 - accuracy: 0.86 - ETA: 2s - loss: 0.3627 - accuracy: 0.86 - ETA: 2s - loss: 0.3625 - accuracy: 0.86 - ETA: 2s - loss: 0.3624 - accuracy: 0.86 - ETA: 2s - loss: 0.3626 - accuracy: 0.86 - ETA: 2s - loss: 0.3623 - accuracy: 0.86 - ETA: 2s - loss: 0.3627 - accuracy: 0.86 - ETA: 2s - loss: 0.3627 - accuracy: 0.86 - ETA: 2s - loss: 0.3625 - accuracy: 0.86 - ETA: 2s - loss: 0.3627 - accuracy: 0.86 - ETA: 2s - loss: 0.3625 - accuracy: 0.86 - ETA: 2s - loss: 0.3625 - accuracy: 0.86 - ETA: 2s - loss: 0.3624 - accuracy: 0.86 - ETA: 1s - loss: 0.3625 - accuracy: 0.86 - ETA: 1s - loss: 0.3622 - accuracy: 0.86 - ETA: 1s - loss: 0.3621 - accuracy: 0.86 - ETA: 1s - loss: 0.3621 - accuracy: 0.86 - ETA: 1s - loss: 0.3622 - accuracy: 0.86 - ETA: 1s - loss: 0.3621 - accuracy: 0.86 - ETA: 1s - loss: 0.3617 - accuracy: 0.86 - ETA: 1s - loss: 0.3615 - accuracy: 0.86 - ETA: 1s - loss: 0.3618 - accuracy: 0.86 - ETA: 1s - loss: 0.3615 - accuracy: 0.86 - ETA: 1s - loss: 0.3613 - accuracy: 0.86 - ETA: 1s - loss: 0.3610 - accuracy: 0.86 - ETA: 1s - loss: 0.3606 - accuracy: 0.86 - ETA: 1s - loss: 0.3606 - accuracy: 0.86 - ETA: 0s - loss: 0.3604 - accuracy: 0.86 - ETA: 0s - loss: 0.3608 - accuracy: 0.86 - ETA: 0s - loss: 0.3609 - accuracy: 0.86 - ETA: 0s - loss: 0.3609 - accuracy: 0.86 - ETA: 0s - loss: 0.3610 - accuracy: 0.86 - ETA: 0s - loss: 0.3608 - accuracy: 0.86 - ETA: 0s - loss: 0.3601 - accuracy: 0.86 - ETA: 0s - loss: 0.3598 - accuracy: 0.86 - ETA: 0s - loss: 0.3598 - accuracy: 0.86 - ETA: 0s - loss: 0.3600 - accuracy: 0.86 - ETA: 0s - loss: 0.3602 - accuracy: 0.86 - ETA: 0s - loss: 0.3601 - accuracy: 0.86 - ETA: 0s - loss: 0.3600 - accuracy: 0.86 - ETA: 0s - loss: 0.3604 - accuracy: 0.86 - ETA: 0s - loss: 0.3603 - accuracy: 0.86 - ETA: 0s - loss: 0.3601 - accuracy: 0.86 - 17s 9ms/step - loss: 0.3600 - accuracy: 0.8688 - val_loss: 0.3927 - val_accuracy: 0.8537\n",
      "Epoch 7/10\n",
      "1875/1875 [==============================] - ETA: 0s - loss: 0.4238 - accuracy: 0.81 - ETA: 10s - loss: 0.4437 - accuracy: 0.847 - ETA: 11s - loss: 0.4010 - accuracy: 0.849 - ETA: 11s - loss: 0.4059 - accuracy: 0.852 - ETA: 11s - loss: 0.3882 - accuracy: 0.858 - ETA: 11s - loss: 0.3696 - accuracy: 0.862 - ETA: 11s - loss: 0.3542 - accuracy: 0.870 - ETA: 11s - loss: 0.3545 - accuracy: 0.869 - ETA: 11s - loss: 0.3445 - accuracy: 0.872 - ETA: 11s - loss: 0.3436 - accuracy: 0.873 - ETA: 11s - loss: 0.3393 - accuracy: 0.874 - ETA: 11s - loss: 0.3341 - accuracy: 0.876 - ETA: 11s - loss: 0.3323 - accuracy: 0.878 - ETA: 10s - loss: 0.3321 - accuracy: 0.878 - ETA: 10s - loss: 0.3360 - accuracy: 0.877 - ETA: 10s - loss: 0.3381 - accuracy: 0.878 - ETA: 10s - loss: 0.3368 - accuracy: 0.878 - ETA: 11s - loss: 0.3350 - accuracy: 0.879 - ETA: 11s - loss: 0.3323 - accuracy: 0.880 - ETA: 11s - loss: 0.3323 - accuracy: 0.879 - ETA: 11s - loss: 0.3328 - accuracy: 0.879 - ETA: 11s - loss: 0.3300 - accuracy: 0.880 - ETA: 11s - loss: 0.3303 - accuracy: 0.880 - ETA: 11s - loss: 0.3337 - accuracy: 0.879 - ETA: 10s - loss: 0.3313 - accuracy: 0.880 - ETA: 10s - loss: 0.3346 - accuracy: 0.880 - ETA: 10s - loss: 0.3368 - accuracy: 0.878 - ETA: 10s - loss: 0.3413 - accuracy: 0.876 - ETA: 10s - loss: 0.3415 - accuracy: 0.875 - ETA: 10s - loss: 0.3415 - accuracy: 0.875 - ETA: 10s - loss: 0.3411 - accuracy: 0.875 - ETA: 10s - loss: 0.3406 - accuracy: 0.875 - ETA: 10s - loss: 0.3400 - accuracy: 0.875 - ETA: 10s - loss: 0.3386 - accuracy: 0.875 - ETA: 10s - loss: 0.3410 - accuracy: 0.874 - ETA: 10s - loss: 0.3407 - accuracy: 0.874 - ETA: 10s - loss: 0.3396 - accuracy: 0.873 - ETA: 10s - loss: 0.3398 - accuracy: 0.873 - ETA: 10s - loss: 0.3386 - accuracy: 0.873 - ETA: 10s - loss: 0.3392 - accuracy: 0.874 - ETA: 10s - loss: 0.3405 - accuracy: 0.874 - ETA: 9s - loss: 0.3403 - accuracy: 0.874 - ETA: 9s - loss: 0.3373 - accuracy: 0.87 - ETA: 9s - loss: 0.3363 - accuracy: 0.87 - ETA: 9s - loss: 0.3360 - accuracy: 0.87 - ETA: 9s - loss: 0.3342 - accuracy: 0.87 - ETA: 9s - loss: 0.3342 - accuracy: 0.87 - ETA: 9s - loss: 0.3328 - accuracy: 0.87 - ETA: 9s - loss: 0.3327 - accuracy: 0.87 - ETA: 9s - loss: 0.3317 - accuracy: 0.87 - ETA: 9s - loss: 0.3293 - accuracy: 0.87 - ETA: 9s - loss: 0.3272 - accuracy: 0.88 - ETA: 9s - loss: 0.3270 - accuracy: 0.88 - ETA: 9s - loss: 0.3274 - accuracy: 0.88 - ETA: 9s - loss: 0.3281 - accuracy: 0.88 - ETA: 9s - loss: 0.3292 - accuracy: 0.88 - ETA: 9s - loss: 0.3298 - accuracy: 0.88 - ETA: 9s - loss: 0.3294 - accuracy: 0.88 - ETA: 9s - loss: 0.3291 - accuracy: 0.88 - ETA: 9s - loss: 0.3289 - accuracy: 0.88 - ETA: 9s - loss: 0.3295 - accuracy: 0.88 - ETA: 9s - loss: 0.3290 - accuracy: 0.88 - ETA: 9s - loss: 0.3283 - accuracy: 0.88 - ETA: 10s - loss: 0.3282 - accuracy: 0.881 - ETA: 10s - loss: 0.3289 - accuracy: 0.880 - ETA: 10s - loss: 0.3277 - accuracy: 0.881 - ETA: 10s - loss: 0.3270 - accuracy: 0.881 - ETA: 9s - loss: 0.3279 - accuracy: 0.880 - ETA: 9s - loss: 0.3279 - accuracy: 0.88 - ETA: 9s - loss: 0.3270 - accuracy: 0.88 - ETA: 9s - loss: 0.3262 - accuracy: 0.88 - ETA: 9s - loss: 0.3258 - accuracy: 0.88 - ETA: 9s - loss: 0.3266 - accuracy: 0.88 - ETA: 9s - loss: 0.3274 - accuracy: 0.88 - ETA: 9s - loss: 0.3273 - accuracy: 0.88 - ETA: 9s - loss: 0.3274 - accuracy: 0.88 - ETA: 9s - loss: 0.3275 - accuracy: 0.88 - ETA: 9s - loss: 0.3273 - accuracy: 0.88 - ETA: 9s - loss: 0.3277 - accuracy: 0.88 - ETA: 9s - loss: 0.3271 - accuracy: 0.88 - ETA: 9s - loss: 0.3268 - accuracy: 0.88 - ETA: 9s - loss: 0.3262 - accuracy: 0.88 - ETA: 9s - loss: 0.3260 - accuracy: 0.88 - ETA: 9s - loss: 0.3255 - accuracy: 0.88 - ETA: 9s - loss: 0.3254 - accuracy: 0.88 - ETA: 9s - loss: 0.3251 - accuracy: 0.88 - ETA: 9s - loss: 0.3257 - accuracy: 0.88 - ETA: 9s - loss: 0.3264 - accuracy: 0.88 - ETA: 9s - loss: 0.3272 - accuracy: 0.88 - ETA: 9s - loss: 0.3263 - accuracy: 0.88 - ETA: 9s - loss: 0.3262 - accuracy: 0.88 - ETA: 9s - loss: 0.3263 - accuracy: 0.88 - ETA: 9s - loss: 0.3250 - accuracy: 0.88 - ETA: 8s - loss: 0.3243 - accuracy: 0.88 - ETA: 8s - loss: 0.3243 - accuracy: 0.88 - ETA: 8s - loss: 0.3235 - accuracy: 0.88 - ETA: 8s - loss: 0.3233 - accuracy: 0.88 - ETA: 8s - loss: 0.3235 - accuracy: 0.88 - ETA: 8s - loss: 0.3235 - accuracy: 0.88 - ETA: 8s - loss: 0.3239 - accuracy: 0.88 - ETA: 8s - loss: 0.3244 - accuracy: 0.88 - ETA: 8s - loss: 0.3249 - accuracy: 0.88 - ETA: 8s - loss: 0.3265 - accuracy: 0.88 - ETA: 8s - loss: 0.3261 - accuracy: 0.88 - ETA: 8s - loss: 0.3259 - accuracy: 0.88 - ETA: 8s - loss: 0.3254 - accuracy: 0.88 - ETA: 8s - loss: 0.3253 - accuracy: 0.88 - ETA: 8s - loss: 0.3251 - accuracy: 0.88 - ETA: 8s - loss: 0.3254 - accuracy: 0.88 - ETA: 8s - loss: 0.3252 - accuracy: 0.88 - ETA: 8s - loss: 0.3252 - accuracy: 0.88 - ETA: 8s - loss: 0.3251 - accuracy: 0.88 - ETA: 8s - loss: 0.3249 - accuracy: 0.88 - ETA: 8s - loss: 0.3242 - accuracy: 0.88 - ETA: 8s - loss: 0.3234 - accuracy: 0.88 - ETA: 7s - loss: 0.3233 - accuracy: 0.88 - ETA: 7s - loss: 0.3227 - accuracy: 0.88 - ETA: 7s - loss: 0.3229 - accuracy: 0.88 - ETA: 7s - loss: 0.3233 - accuracy: 0.88 - ETA: 7s - loss: 0.3246 - accuracy: 0.88 - ETA: 7s - loss: 0.3243 - accuracy: 0.88 - ETA: 7s - loss: 0.3249 - accuracy: 0.88 - ETA: 7s - loss: 0.3250 - accuracy: 0.88 - ETA: 7s - loss: 0.3256 - accuracy: 0.88 - ETA: 7s - loss: 0.3256 - accuracy: 0.88 - ETA: 7s - loss: 0.3256 - accuracy: 0.88 - ETA: 7s - loss: 0.3253 - accuracy: 0.88 - ETA: 7s - loss: 0.3256 - accuracy: 0.88 - ETA: 7s - loss: 0.3257 - accuracy: 0.88 - ETA: 7s - loss: 0.3254 - accuracy: 0.88 - ETA: 6s - loss: 0.3254 - accuracy: 0.88 - ETA: 6s - loss: 0.3256 - accuracy: 0.88 - ETA: 6s - loss: 0.3255 - accuracy: 0.88 - ETA: 6s - loss: 0.3253 - accuracy: 0.88 - ETA: 6s - loss: 0.3252 - accuracy: 0.88 - ETA: 6s - loss: 0.3250 - accuracy: 0.88 - ETA: 6s - loss: 0.3250 - accuracy: 0.88 - ETA: 6s - loss: 0.3242 - accuracy: 0.88 - ETA: 6s - loss: 0.3240 - accuracy: 0.88 - ETA: 6s - loss: 0.3233 - accuracy: 0.88 - ETA: 6s - loss: 0.3238 - accuracy: 0.88 - ETA: 6s - loss: 0.3240 - accuracy: 0.88 - ETA: 6s - loss: 0.3245 - accuracy: 0.88 - ETA: 6s - loss: 0.3240 - accuracy: 0.88 - ETA: 6s - loss: 0.3235 - accuracy: 0.88 - ETA: 6s - loss: 0.3231 - accuracy: 0.88 - ETA: 6s - loss: 0.3232 - accuracy: 0.88 - ETA: 6s - loss: 0.3232 - accuracy: 0.88 - ETA: 6s - loss: 0.3231 - accuracy: 0.88 - ETA: 5s - loss: 0.3229 - accuracy: 0.88 - ETA: 5s - loss: 0.3229 - accuracy: 0.88 - ETA: 5s - loss: 0.3233 - accuracy: 0.88 - ETA: 5s - loss: 0.3234 - accuracy: 0.88 - ETA: 5s - loss: 0.3236 - accuracy: 0.88 - ETA: 5s - loss: 0.3237 - accuracy: 0.88 - ETA: 5s - loss: 0.3242 - accuracy: 0.88 - ETA: 5s - loss: 0.3239 - accuracy: 0.88 - ETA: 5s - loss: 0.3240 - accuracy: 0.88 - ETA: 5s - loss: 0.3239 - accuracy: 0.88 - ETA: 5s - loss: 0.3246 - accuracy: 0.88 - ETA: 5s - loss: 0.3252 - accuracy: 0.88 - ETA: 5s - loss: 0.3257 - accuracy: 0.88 - ETA: 5s - loss: 0.3261 - accuracy: 0.88 - ETA: 5s - loss: 0.3255 - accuracy: 0.88 - ETA: 4s - loss: 0.3258 - accuracy: 0.88 - ETA: 4s - loss: 0.3267 - accuracy: 0.88 - ETA: 4s - loss: 0.3270 - accuracy: 0.88 - ETA: 4s - loss: 0.3268 - accuracy: 0.88 - ETA: 4s - loss: 0.3268 - accuracy: 0.88 - ETA: 4s - loss: 0.3274 - accuracy: 0.88 - ETA: 4s - loss: 0.3276 - accuracy: 0.88 - ETA: 4s - loss: 0.3277 - accuracy: 0.88 - ETA: 4s - loss: 0.3270 - accuracy: 0.88 - ETA: 4s - loss: 0.3271 - accuracy: 0.88 - ETA: 4s - loss: 0.3268 - accuracy: 0.88 - ETA: 4s - loss: 0.3266 - accuracy: 0.88 - ETA: 4s - loss: 0.3271 - accuracy: 0.88 - ETA: 4s - loss: 0.3270 - accuracy: 0.88 - ETA: 4s - loss: 0.3268 - accuracy: 0.88 - ETA: 3s - loss: 0.3266 - accuracy: 0.88 - ETA: 3s - loss: 0.3265 - accuracy: 0.88 - ETA: 3s - loss: 0.3266 - accuracy: 0.88 - ETA: 3s - loss: 0.3261 - accuracy: 0.88 - ETA: 3s - loss: 0.3260 - accuracy: 0.88 - ETA: 3s - loss: 0.3263 - accuracy: 0.88 - ETA: 3s - loss: 0.3263 - accuracy: 0.88 - ETA: 3s - loss: 0.3262 - accuracy: 0.88 - ETA: 3s - loss: 0.3259 - accuracy: 0.88 - ETA: 3s - loss: 0.3260 - accuracy: 0.88 - ETA: 3s - loss: 0.3260 - accuracy: 0.88 - ETA: 3s - loss: 0.3257 - accuracy: 0.88 - ETA: 3s - loss: 0.3258 - accuracy: 0.88 - ETA: 3s - loss: 0.3259 - accuracy: 0.88 - ETA: 3s - loss: 0.3256 - accuracy: 0.88 - ETA: 3s - loss: 0.3256 - accuracy: 0.88 - ETA: 3s - loss: 0.3259 - accuracy: 0.88 - ETA: 2s - loss: 0.3260 - accuracy: 0.88 - ETA: 2s - loss: 0.3257 - accuracy: 0.88 - ETA: 2s - loss: 0.3254 - accuracy: 0.88 - ETA: 2s - loss: 0.3250 - accuracy: 0.88 - ETA: 2s - loss: 0.3249 - accuracy: 0.88 - ETA: 2s - loss: 0.3251 - accuracy: 0.88 - ETA: 2s - loss: 0.3251 - accuracy: 0.88 - ETA: 2s - loss: 0.3248 - accuracy: 0.88 - ETA: 2s - loss: 0.3248 - accuracy: 0.88 - ETA: 2s - loss: 0.3248 - accuracy: 0.88 - ETA: 2s - loss: 0.3249 - accuracy: 0.88 - ETA: 2s - loss: 0.3245 - accuracy: 0.88 - ETA: 2s - loss: 0.3247 - accuracy: 0.88 - ETA: 2s - loss: 0.3249 - accuracy: 0.88 - ETA: 2s - loss: 0.3251 - accuracy: 0.88 - ETA: 2s - loss: 0.3248 - accuracy: 0.88 - ETA: 2s - loss: 0.3249 - accuracy: 0.88 - ETA: 2s - loss: 0.3248 - accuracy: 0.88 - ETA: 1s - loss: 0.3251 - accuracy: 0.88 - ETA: 1s - loss: 0.3247 - accuracy: 0.88 - ETA: 1s - loss: 0.3250 - accuracy: 0.88 - ETA: 1s - loss: 0.3251 - accuracy: 0.88 - ETA: 1s - loss: 0.3250 - accuracy: 0.88 - ETA: 1s - loss: 0.3250 - accuracy: 0.88 - ETA: 1s - loss: 0.3255 - accuracy: 0.88 - ETA: 1s - loss: 0.3258 - accuracy: 0.88 - ETA: 1s - loss: 0.3257 - accuracy: 0.88 - ETA: 1s - loss: 0.3256 - accuracy: 0.88 - ETA: 1s - loss: 0.3254 - accuracy: 0.88 - ETA: 1s - loss: 0.3250 - accuracy: 0.88 - ETA: 1s - loss: 0.3251 - accuracy: 0.88 - ETA: 1s - loss: 0.3250 - accuracy: 0.88 - ETA: 1s - loss: 0.3250 - accuracy: 0.88 - ETA: 1s - loss: 0.3252 - accuracy: 0.88 - ETA: 1s - loss: 0.3251 - accuracy: 0.88 - ETA: 0s - loss: 0.3255 - accuracy: 0.88 - ETA: 0s - loss: 0.3257 - accuracy: 0.88 - ETA: 0s - loss: 0.3255 - accuracy: 0.88 - ETA: 0s - loss: 0.3251 - accuracy: 0.88 - ETA: 0s - loss: 0.3250 - accuracy: 0.88 - ETA: 0s - loss: 0.3247 - accuracy: 0.88 - ETA: 0s - loss: 0.3247 - accuracy: 0.88 - ETA: 0s - loss: 0.3247 - accuracy: 0.88 - ETA: 0s - loss: 0.3241 - accuracy: 0.88 - ETA: 0s - loss: 0.3241 - accuracy: 0.88 - ETA: 0s - loss: 0.3241 - accuracy: 0.88 - ETA: 0s - loss: 0.3241 - accuracy: 0.88 - ETA: 0s - loss: 0.3239 - accuracy: 0.88 - ETA: 0s - loss: 0.3235 - accuracy: 0.88 - ETA: 0s - loss: 0.3233 - accuracy: 0.88 - ETA: 0s - loss: 0.3230 - accuracy: 0.88 - 14s 8ms/step - loss: 0.3230 - accuracy: 0.8821 - val_loss: 0.3961 - val_accuracy: 0.8582\n",
      "Epoch 8/10\n",
      "  52/1875 [..............................] - ETA: 0s - loss: 0.4992 - accuracy: 0.81 - ETA: 11s - loss: 0.3591 - accuracy: 0.864 - ETA: 11s - loss: 0.3524 - accuracy: 0.866 - ETA: 11s - loss: 0.3288 - accuracy: 0.872 - ETA: 11s - loss: 0.3099 - accuracy: 0.886 - ETA: 11s - loss: 0.2988 - accuracy: 0.891"
     ]
    }
   ],
   "source": [
    "tuner.search(img_train, label_train, epochs = 10, validation_data = (img_test, label_test), callbacks = [ClearTrainingOutput()])\n",
    "\n",
    "# Get the optimal hyperparameters\n",
    "best_hps = tuner.get_best_hyperparameters(num_trials = 1)[0]\n",
    "\n",
    "print(f\"\"\"\n",
    "The hyperparameter search is complete. The optimal number of units in the first densely-connected\n",
    "layer is {best_hps.get('units')} and the optimal learning rate for the optimizer\n",
    "is {best_hps.get('learning_rate')}.\n",
    "\"\"\")"
   ]
  },
  {
   "cell_type": "code",
   "execution_count": null,
   "metadata": {},
   "outputs": [],
   "source": [
    "# Build the model with the optimal hyperparameters and train it on the data\n",
    "model = tuner.hypermodel.build(best_hps)\n",
    "model.fit(img_train, label_train, epochs = 10, validation_data = (img_test, label_test))"
   ]
  }
 ],
 "metadata": {
  "kernelspec": {
   "display_name": "Python 3",
   "language": "python",
   "name": "python3"
  },
  "language_info": {
   "codemirror_mode": {
    "name": "ipython",
    "version": 3
   },
   "file_extension": ".py",
   "mimetype": "text/x-python",
   "name": "python",
   "nbconvert_exporter": "python",
   "pygments_lexer": "ipython3",
   "version": "3.7.9"
  }
 },
 "nbformat": 4,
 "nbformat_minor": 4
}
