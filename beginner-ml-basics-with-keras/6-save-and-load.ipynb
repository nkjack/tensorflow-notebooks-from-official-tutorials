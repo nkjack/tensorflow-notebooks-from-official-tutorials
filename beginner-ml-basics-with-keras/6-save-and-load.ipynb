{
 "cells": [
  {
   "cell_type": "code",
   "execution_count": 1,
   "metadata": {},
   "outputs": [
    {
     "name": "stdout",
     "output_type": "stream",
     "text": [
      "2.3.0\n"
     ]
    }
   ],
   "source": [
    "# pip install -q pyyaml h5py  # Required to save models in HDF5 format\n",
    "\n",
    "import os\n",
    "\n",
    "import tensorflow as tf\n",
    "from tensorflow import keras\n",
    "\n",
    "print(tf.version.VERSION)"
   ]
  },
  {
   "cell_type": "code",
   "execution_count": 2,
   "metadata": {},
   "outputs": [],
   "source": [
    "(train_images, train_labels), (test_images, test_labels) = tf.keras.datasets.mnist.load_data()\n",
    "\n",
    "train_labels = train_labels[:1000]\n",
    "test_labels = test_labels[:1000]\n",
    "\n",
    "train_images = train_images[:1000].reshape(-1, 28 * 28) / 255.0\n",
    "test_images = test_images[:1000].reshape(-1, 28 * 28) / 255.0"
   ]
  },
  {
   "cell_type": "code",
   "execution_count": 3,
   "metadata": {},
   "outputs": [
    {
     "name": "stdout",
     "output_type": "stream",
     "text": [
      "Model: \"sequential\"\n",
      "_________________________________________________________________\n",
      "Layer (type)                 Output Shape              Param #   \n",
      "=================================================================\n",
      "dense (Dense)                (None, 512)               401920    \n",
      "_________________________________________________________________\n",
      "dropout (Dropout)            (None, 512)               0         \n",
      "_________________________________________________________________\n",
      "dense_1 (Dense)              (None, 10)                5130      \n",
      "=================================================================\n",
      "Total params: 407,050\n",
      "Trainable params: 407,050\n",
      "Non-trainable params: 0\n",
      "_________________________________________________________________\n"
     ]
    }
   ],
   "source": [
    "# Define a simple sequential model\n",
    "def create_model():\n",
    "    model = tf.keras.models.Sequential([\n",
    "        keras.layers.Dense(512, activation='relu', input_shape=(784,)),\n",
    "        keras.layers.Dropout(0.2),\n",
    "        keras.layers.Dense(10)\n",
    "    ])\n",
    "\n",
    "    model.compile(optimizer='adam',\n",
    "                loss=tf.losses.SparseCategoricalCrossentropy(from_logits=True),\n",
    "                metrics=[tf.metrics.SparseCategoricalAccuracy()])\n",
    "\n",
    "    return model\n",
    "\n",
    "# Create a basic model instance\n",
    "model = create_model()\n",
    "\n",
    "# Display the model's architecture\n",
    "model.summary()"
   ]
  },
  {
   "cell_type": "code",
   "execution_count": 4,
   "metadata": {},
   "outputs": [
    {
     "name": "stdout",
     "output_type": "stream",
     "text": [
      "Epoch 1/10\n",
      "29/32 [==========================>...] - ETA: 0s - loss: 1.2578 - sparse_categorical_accuracy: 0.6358\n",
      "Epoch 00001: saving model to training_1\\cp.ckpt\n",
      "32/32 [==============================] - 1s 22ms/step - loss: 1.2132 - sparse_categorical_accuracy: 0.6500 - val_loss: 0.7346 - val_sparse_categorical_accuracy: 0.7780\n",
      "Epoch 2/10\n",
      "30/32 [===========================>..] - ETA: 0s - loss: 0.4270 - sparse_categorical_accuracy: 0.8844\n",
      "Epoch 00002: saving model to training_1\\cp.ckpt\n",
      "32/32 [==============================] - 0s 12ms/step - loss: 0.4278 - sparse_categorical_accuracy: 0.8820 - val_loss: 0.5217 - val_sparse_categorical_accuracy: 0.8400\n",
      "Epoch 3/10\n",
      "25/32 [======================>.......] - ETA: 0s - loss: 0.3030 - sparse_categorical_accuracy: 0.9237\n",
      "Epoch 00003: saving model to training_1\\cp.ckpt\n",
      "32/32 [==============================] - 0s 14ms/step - loss: 0.2921 - sparse_categorical_accuracy: 0.9250 - val_loss: 0.5244 - val_sparse_categorical_accuracy: 0.8300\n",
      "Epoch 4/10\n",
      "31/32 [============================>.] - ETA: 0s - loss: 0.2107 - sparse_categorical_accuracy: 0.9526\n",
      "Epoch 00004: saving model to training_1\\cp.ckpt\n",
      "32/32 [==============================] - 1s 16ms/step - loss: 0.2094 - sparse_categorical_accuracy: 0.9530 - val_loss: 0.4604 - val_sparse_categorical_accuracy: 0.8600\n",
      "Epoch 5/10\n",
      "27/32 [========================>.....] - ETA: 0s - loss: 0.1529 - sparse_categorical_accuracy: 0.9641\n",
      "Epoch 00005: saving model to training_1\\cp.ckpt\n",
      "32/32 [==============================] - 0s 13ms/step - loss: 0.1549 - sparse_categorical_accuracy: 0.9640 - val_loss: 0.4220 - val_sparse_categorical_accuracy: 0.8640\n",
      "Epoch 6/10\n",
      "26/32 [=======================>......] - ETA: 0s - loss: 0.1273 - sparse_categorical_accuracy: 0.9736\n",
      "Epoch 00006: saving model to training_1\\cp.ckpt\n",
      "32/32 [==============================] - 0s 13ms/step - loss: 0.1253 - sparse_categorical_accuracy: 0.9740 - val_loss: 0.4198 - val_sparse_categorical_accuracy: 0.8650\n",
      "Epoch 7/10\n",
      "27/32 [========================>.....] - ETA: 0s - loss: 0.0956 - sparse_categorical_accuracy: 0.9873\n",
      "Epoch 00007: saving model to training_1\\cp.ckpt\n",
      "32/32 [==============================] - 0s 13ms/step - loss: 0.0924 - sparse_categorical_accuracy: 0.9880 - val_loss: 0.4029 - val_sparse_categorical_accuracy: 0.8710\n",
      "Epoch 8/10\n",
      "25/32 [======================>.......] - ETA: 0s - loss: 0.0633 - sparse_categorical_accuracy: 0.9950\n",
      "Epoch 00008: saving model to training_1\\cp.ckpt\n",
      "32/32 [==============================] - 0s 14ms/step - loss: 0.0648 - sparse_categorical_accuracy: 0.9960 - val_loss: 0.4242 - val_sparse_categorical_accuracy: 0.8650\n",
      "Epoch 9/10\n",
      "27/32 [========================>.....] - ETA: 0s - loss: 0.0541 - sparse_categorical_accuracy: 0.9954\n",
      "Epoch 00009: saving model to training_1\\cp.ckpt\n",
      "32/32 [==============================] - 0s 12ms/step - loss: 0.0552 - sparse_categorical_accuracy: 0.9950 - val_loss: 0.4131 - val_sparse_categorical_accuracy: 0.8680\n",
      "Epoch 10/10\n",
      "29/32 [==========================>...] - ETA: 0s - loss: 0.0436 - sparse_categorical_accuracy: 0.9978\n",
      "Epoch 00010: saving model to training_1\\cp.ckpt\n",
      "32/32 [==============================] - 0s 15ms/step - loss: 0.0432 - sparse_categorical_accuracy: 0.9980 - val_loss: 0.4199 - val_sparse_categorical_accuracy: 0.8630\n"
     ]
    },
    {
     "data": {
      "text/plain": [
       "<tensorflow.python.keras.callbacks.History at 0x207ebd159c8>"
      ]
     },
     "execution_count": 4,
     "metadata": {},
     "output_type": "execute_result"
    }
   ],
   "source": [
    "checkpoint_path = \"training_1/cp.ckpt\"\n",
    "checkpoint_dir = os.path.dirname(checkpoint_path)\n",
    "\n",
    "# Create a callback that saves the model's weights\n",
    "cp_callback = tf.keras.callbacks.ModelCheckpoint(filepath=checkpoint_path,\n",
    "                                                 save_weights_only=True,\n",
    "                                                 verbose=1)\n",
    "\n",
    "# Train the model with the new callback\n",
    "model.fit(train_images, \n",
    "          train_labels,  \n",
    "          epochs=10,\n",
    "          validation_data=(test_images,test_labels),\n",
    "          callbacks=[cp_callback])  # Pass callback to training\n",
    "\n",
    "# This may generate warnings related to saving the state of the optimizer.\n",
    "# These warnings (and similar warnings throughout this notebook)\n",
    "# are in place to discourage outdated usage, and can be ignored."
   ]
  },
  {
   "cell_type": "code",
   "execution_count": 5,
   "metadata": {},
   "outputs": [
    {
     "name": "stdout",
     "output_type": "stream",
     "text": [
      " Volume in drive C is OS\n",
      " Volume Serial Number is 88CB-3D69\n",
      "\n",
      " Directory of C:\\Users\\Noam\\Desktop\\AI\\repos\\tf-notebooks\\beginner-ml-basics-with-keras\\training_1\n",
      "\n",
      "09/22/2020  10:40 PM    <DIR>          .\n",
      "09/22/2020  10:40 PM    <DIR>          ..\n",
      "09/22/2020  10:40 PM                71 checkpoint\n",
      "09/22/2020  10:40 PM         4,886,673 cp.ckpt.data-00000-of-00001\n",
      "09/22/2020  10:40 PM             1,222 cp.ckpt.index\n",
      "               3 File(s)      4,887,966 bytes\n",
      "               2 Dir(s)  54,566,240,256 bytes free\n"
     ]
    }
   ],
   "source": [
    "ls {checkpoint_dir}"
   ]
  },
  {
   "cell_type": "code",
   "execution_count": 6,
   "metadata": {},
   "outputs": [
    {
     "name": "stdout",
     "output_type": "stream",
     "text": [
      "32/32 - 0s - loss: 2.3234 - sparse_categorical_accuracy: 0.0870\n",
      "Untrained model, accuracy:  8.70%\n",
      "32/32 - 0s - loss: 0.4199 - sparse_categorical_accuracy: 0.8630\n",
      "Restored model, accuracy: 86.30%\n"
     ]
    }
   ],
   "source": [
    "# Create a basic model instance\n",
    "model = create_model()\n",
    "\n",
    "# Evaluate the model\n",
    "loss, acc = model.evaluate(test_images,  test_labels, verbose=2)\n",
    "print(\"Untrained model, accuracy: {:5.2f}%\".format(100*acc))\n",
    "\n",
    "# Loads the weights\n",
    "model.load_weights(checkpoint_path)\n",
    "\n",
    "# Re-evaluate the model\n",
    "loss,acc = model.evaluate(test_images,  test_labels, verbose=2)\n",
    "print(\"Restored model, accuracy: {:5.2f}%\".format(100*acc))"
   ]
  },
  {
   "cell_type": "code",
   "execution_count": 7,
   "metadata": {},
   "outputs": [
    {
     "name": "stdout",
     "output_type": "stream",
     "text": [
      "WARNING:tensorflow:`period` argument is deprecated. Please use `save_freq` to specify the frequency in number of batches seen.\n",
      "\n",
      "Epoch 00005: saving model to training_2\\cp-0005.ckpt\n",
      "\n",
      "Epoch 00010: saving model to training_2\\cp-0010.ckpt\n",
      "\n",
      "Epoch 00015: saving model to training_2\\cp-0015.ckpt\n",
      "\n",
      "Epoch 00020: saving model to training_2\\cp-0020.ckpt\n",
      "\n",
      "Epoch 00025: saving model to training_2\\cp-0025.ckpt\n",
      "\n",
      "Epoch 00030: saving model to training_2\\cp-0030.ckpt\n",
      "\n",
      "Epoch 00035: saving model to training_2\\cp-0035.ckpt\n",
      "\n",
      "Epoch 00040: saving model to training_2\\cp-0040.ckpt\n",
      "\n",
      "Epoch 00045: saving model to training_2\\cp-0045.ckpt\n",
      "\n",
      "Epoch 00050: saving model to training_2\\cp-0050.ckpt\n"
     ]
    },
    {
     "data": {
      "text/plain": [
       "<tensorflow.python.keras.callbacks.History at 0x207eed9e748>"
      ]
     },
     "execution_count": 7,
     "metadata": {},
     "output_type": "execute_result"
    }
   ],
   "source": [
    "# more options in callback\n",
    "# Include the epoch in the file name (uses `str.format`)\n",
    "checkpoint_path = \"training_2/cp-{epoch:04d}.ckpt\"\n",
    "checkpoint_dir = os.path.dirname(checkpoint_path)\n",
    "\n",
    "# Create a callback that saves the model's weights every 5 epochs\n",
    "cp_callback = tf.keras.callbacks.ModelCheckpoint(\n",
    "    filepath=checkpoint_path, \n",
    "    verbose=1, \n",
    "    save_weights_only=True,\n",
    "    period=5)\n",
    "\n",
    "# Create a new model instance\n",
    "model = create_model()\n",
    "\n",
    "# Save the weights using the `checkpoint_path` format\n",
    "model.save_weights(checkpoint_path.format(epoch=0))\n",
    "\n",
    "# Train the model with the new callback\n",
    "model.fit(train_images, \n",
    "          train_labels,\n",
    "          epochs=50, \n",
    "          callbacks=[cp_callback],\n",
    "          validation_data=(test_images,test_labels),\n",
    "          verbose=0)"
   ]
  },
  {
   "cell_type": "code",
   "execution_count": 8,
   "metadata": {},
   "outputs": [
    {
     "name": "stdout",
     "output_type": "stream",
     "text": [
      " Volume in drive C is OS\n",
      " Volume Serial Number is 88CB-3D69\n",
      "\n",
      " Directory of C:\\Users\\Noam\\Desktop\\AI\\repos\\tf-notebooks\\beginner-ml-basics-with-keras\\training_2\n",
      "\n",
      "09/22/2020  10:40 PM    <DIR>          .\n",
      "09/22/2020  10:40 PM    <DIR>          ..\n",
      "09/22/2020  10:40 PM                81 checkpoint\n",
      "09/22/2020  10:40 PM         1,628,726 cp-0000.ckpt.data-00000-of-00001\n",
      "09/22/2020  10:40 PM               402 cp-0000.ckpt.index\n",
      "09/22/2020  10:40 PM         4,886,685 cp-0005.ckpt.data-00000-of-00001\n",
      "09/22/2020  10:40 PM             1,222 cp-0005.ckpt.index\n",
      "09/22/2020  10:40 PM         4,886,685 cp-0010.ckpt.data-00000-of-00001\n",
      "09/22/2020  10:40 PM             1,222 cp-0010.ckpt.index\n",
      "09/22/2020  10:40 PM         4,886,685 cp-0015.ckpt.data-00000-of-00001\n",
      "09/22/2020  10:40 PM             1,222 cp-0015.ckpt.index\n",
      "09/22/2020  10:40 PM         4,886,685 cp-0020.ckpt.data-00000-of-00001\n",
      "09/22/2020  10:40 PM             1,222 cp-0020.ckpt.index\n",
      "09/22/2020  10:40 PM         4,886,685 cp-0025.ckpt.data-00000-of-00001\n",
      "09/22/2020  10:40 PM             1,222 cp-0025.ckpt.index\n",
      "09/22/2020  10:40 PM         4,886,685 cp-0030.ckpt.data-00000-of-00001\n",
      "09/22/2020  10:40 PM             1,222 cp-0030.ckpt.index\n",
      "09/22/2020  10:40 PM         4,886,685 cp-0035.ckpt.data-00000-of-00001\n",
      "09/22/2020  10:40 PM             1,222 cp-0035.ckpt.index\n",
      "09/22/2020  10:40 PM         4,886,685 cp-0040.ckpt.data-00000-of-00001\n",
      "09/22/2020  10:40 PM             1,222 cp-0040.ckpt.index\n",
      "09/22/2020  10:40 PM         4,886,685 cp-0045.ckpt.data-00000-of-00001\n",
      "09/22/2020  10:40 PM             1,222 cp-0045.ckpt.index\n",
      "09/22/2020  10:40 PM         4,886,685 cp-0050.ckpt.data-00000-of-00001\n",
      "09/22/2020  10:40 PM             1,222 cp-0050.ckpt.index\n",
      "              23 File(s)     50,508,279 bytes\n",
      "               2 Dir(s)  54,515,032,064 bytes free\n"
     ]
    }
   ],
   "source": [
    "ls {checkpoint_dir}"
   ]
  },
  {
   "cell_type": "code",
   "execution_count": 9,
   "metadata": {},
   "outputs": [
    {
     "data": {
      "text/plain": [
       "'training_2\\\\cp-0050.ckpt'"
      ]
     },
     "execution_count": 9,
     "metadata": {},
     "output_type": "execute_result"
    }
   ],
   "source": [
    "latest = tf.train.latest_checkpoint(checkpoint_dir)\n",
    "latest"
   ]
  },
  {
   "cell_type": "code",
   "execution_count": 10,
   "metadata": {},
   "outputs": [
    {
     "name": "stdout",
     "output_type": "stream",
     "text": [
      "32/32 - 0s - loss: 0.4777 - sparse_categorical_accuracy: 0.8810\n",
      "Restored model, accuracy: 88.10%\n"
     ]
    }
   ],
   "source": [
    "# Create a new model instance\n",
    "model = create_model()\n",
    "\n",
    "# Load the previously saved weights\n",
    "model.load_weights(latest)\n",
    "\n",
    "# Re-evaluate the model\n",
    "loss, acc = model.evaluate(test_images,  test_labels, verbose=2)\n",
    "print(\"Restored model, accuracy: {:5.2f}%\".format(100*acc))"
   ]
  },
  {
   "cell_type": "markdown",
   "metadata": {},
   "source": [
    "### Manually save weights"
   ]
  },
  {
   "cell_type": "code",
   "execution_count": 11,
   "metadata": {},
   "outputs": [
    {
     "name": "stdout",
     "output_type": "stream",
     "text": [
      "32/32 - 0s - loss: 0.4777 - sparse_categorical_accuracy: 0.8810\n",
      "Restored model, accuracy: 88.10%\n"
     ]
    }
   ],
   "source": [
    "# Save the weights\n",
    "model.save_weights('./checkpoints/my_checkpoint')\n",
    "\n",
    "# Create a new model instance\n",
    "model = create_model()\n",
    "\n",
    "# Restore the weights\n",
    "model.load_weights('./checkpoints/my_checkpoint')\n",
    "\n",
    "# Evaluate the model\n",
    "loss,acc = model.evaluate(test_images,  test_labels, verbose=2)\n",
    "print(\"Restored model, accuracy: {:5.2f}%\".format(100*acc))"
   ]
  },
  {
   "cell_type": "markdown",
   "metadata": {},
   "source": [
    "### save the entire model"
   ]
  },
  {
   "cell_type": "code",
   "execution_count": 12,
   "metadata": {},
   "outputs": [
    {
     "name": "stdout",
     "output_type": "stream",
     "text": [
      "WARNING:tensorflow:Unresolved object in checkpoint: (root).optimizer.iter\n",
      "WARNING:tensorflow:Unresolved object in checkpoint: (root).optimizer.beta_1\n",
      "WARNING:tensorflow:Unresolved object in checkpoint: (root).optimizer.beta_2\n",
      "WARNING:tensorflow:Unresolved object in checkpoint: (root).optimizer.decay\n",
      "WARNING:tensorflow:Unresolved object in checkpoint: (root).optimizer.learning_rate\n",
      "WARNING:tensorflow:A checkpoint was restored (e.g. tf.train.Checkpoint.restore or tf.keras.Model.load_weights) but not all checkpointed values were used. See above for specific issues. Use expect_partial() on the load status object, e.g. tf.train.Checkpoint.restore(...).expect_partial(), to silence these warnings, or use assert_consumed() to make the check explicit. See https://www.tensorflow.org/guide/checkpoint#loading_mechanics for details.\n",
      "WARNING:tensorflow:Unresolved object in checkpoint: (root).optimizer.iter\n",
      "WARNING:tensorflow:Unresolved object in checkpoint: (root).optimizer.beta_1\n",
      "WARNING:tensorflow:Unresolved object in checkpoint: (root).optimizer.beta_2\n",
      "WARNING:tensorflow:Unresolved object in checkpoint: (root).optimizer.decay\n",
      "WARNING:tensorflow:Unresolved object in checkpoint: (root).optimizer.learning_rate\n",
      "WARNING:tensorflow:A checkpoint was restored (e.g. tf.train.Checkpoint.restore or tf.keras.Model.load_weights) but not all checkpointed values were used. See above for specific issues. Use expect_partial() on the load status object, e.g. tf.train.Checkpoint.restore(...).expect_partial(), to silence these warnings, or use assert_consumed() to make the check explicit. See https://www.tensorflow.org/guide/checkpoint#loading_mechanics for details.\n",
      "Epoch 1/5\n",
      "32/32 [==============================] - 0s 5ms/step - loss: 1.1475 - sparse_categorical_accuracy: 0.6810\n",
      "Epoch 2/5\n",
      "32/32 [==============================] - 0s 6ms/step - loss: 0.4203 - sparse_categorical_accuracy: 0.8730\n",
      "Epoch 3/5\n",
      "32/32 [==============================] - 0s 5ms/step - loss: 0.2669 - sparse_categorical_accuracy: 0.9340\n",
      "Epoch 4/5\n",
      "32/32 [==============================] - 0s 6ms/step - loss: 0.2112 - sparse_categorical_accuracy: 0.9520A: 0s - loss: 0.2028 - sparse_categorical_accuracy: 0.9\n",
      "Epoch 5/5\n",
      "32/32 [==============================] - 0s 6ms/step - loss: 0.1481 - sparse_categorical_accuracy: 0.9650\n",
      "WARNING:tensorflow:From C:\\Users\\Noam\\AppData\\Roaming\\Python\\Python37\\site-packages\\tensorflow\\python\\training\\tracking\\tracking.py:111: Model.state_updates (from tensorflow.python.keras.engine.training) is deprecated and will be removed in a future version.\n",
      "Instructions for updating:\n",
      "This property should not be used in TensorFlow 2.0, as updates are applied automatically.\n",
      "WARNING:tensorflow:From C:\\Users\\Noam\\AppData\\Roaming\\Python\\Python37\\site-packages\\tensorflow\\python\\training\\tracking\\tracking.py:111: Layer.updates (from tensorflow.python.keras.engine.base_layer) is deprecated and will be removed in a future version.\n",
      "Instructions for updating:\n",
      "This property should not be used in TensorFlow 2.0, as updates are applied automatically.\n",
      "INFO:tensorflow:Assets written to: saved_model/my_model\\assets\n"
     ]
    }
   ],
   "source": [
    "# Create and train a new model instance.\n",
    "model = create_model()\n",
    "model.fit(train_images, train_labels, epochs=5)\n",
    "\n",
    "# Save the entire model as a SavedModel.\n",
    "!mkdir -p saved_model\n",
    "model.save('saved_model/my_model') "
   ]
  },
  {
   "cell_type": "code",
   "execution_count": 13,
   "metadata": {},
   "outputs": [
    {
     "name": "stdout",
     "output_type": "stream",
     "text": [
      "my_model\n",
      "assets\n",
      "saved_model.pb\n",
      "variables\n"
     ]
    }
   ],
   "source": [
    "# my_model directory\n",
    "!ls saved_model\n",
    "\n",
    "# Contains an assets folder, saved_model.pb, and variables folder.\n",
    "!ls saved_model/my_model"
   ]
  },
  {
   "cell_type": "code",
   "execution_count": 14,
   "metadata": {},
   "outputs": [
    {
     "name": "stdout",
     "output_type": "stream",
     "text": [
      "Model: \"sequential_5\"\n",
      "_________________________________________________________________\n",
      "Layer (type)                 Output Shape              Param #   \n",
      "=================================================================\n",
      "dense_10 (Dense)             (None, 512)               401920    \n",
      "_________________________________________________________________\n",
      "dropout_5 (Dropout)          (None, 512)               0         \n",
      "_________________________________________________________________\n",
      "dense_11 (Dense)             (None, 10)                5130      \n",
      "=================================================================\n",
      "Total params: 407,050\n",
      "Trainable params: 407,050\n",
      "Non-trainable params: 0\n",
      "_________________________________________________________________\n",
      "32/32 - 0s - loss: 0.4115 - sparse_categorical_accuracy: 0.8640\n",
      "Restored model, accuracy: 86.40%\n",
      "(1000, 10)\n"
     ]
    }
   ],
   "source": [
    "new_model = tf.keras.models.load_model('saved_model/my_model')\n",
    "\n",
    "# Check its architecture\n",
    "new_model.summary()\n",
    "\n",
    "# Evaluate the restored model\n",
    "loss, acc = new_model.evaluate(test_images,  test_labels, verbose=2)\n",
    "print('Restored model, accuracy: {:5.2f}%'.format(100*acc))\n",
    "\n",
    "print(new_model.predict(test_images).shape)"
   ]
  },
  {
   "cell_type": "markdown",
   "metadata": {},
   "source": [
    "### HD5Format"
   ]
  },
  {
   "cell_type": "code",
   "execution_count": 16,
   "metadata": {},
   "outputs": [],
   "source": [
    "# Recreate the exact same model, including its weights and the optimizer\n",
    "# new_model = tf.keras.models.load_model('my_model.h5')\n",
    "\n",
    "# # Show the model architecture\n",
    "# new_model.summary()\n",
    "\n",
    "# loss, acc = new_model.evaluate(test_images,  test_labels, verbose=2)\n",
    "# print('Restored model, accuracy: {:5.2f}%'.format(100*acc))"
   ]
  },
  {
   "cell_type": "code",
   "execution_count": null,
   "metadata": {},
   "outputs": [],
   "source": []
  }
 ],
 "metadata": {
  "kernelspec": {
   "display_name": "Python 3",
   "language": "python",
   "name": "python3"
  },
  "language_info": {
   "codemirror_mode": {
    "name": "ipython",
    "version": 3
   },
   "file_extension": ".py",
   "mimetype": "text/x-python",
   "name": "python",
   "nbconvert_exporter": "python",
   "pygments_lexer": "ipython3",
   "version": "3.7.9"
  }
 },
 "nbformat": 4,
 "nbformat_minor": 4
}
