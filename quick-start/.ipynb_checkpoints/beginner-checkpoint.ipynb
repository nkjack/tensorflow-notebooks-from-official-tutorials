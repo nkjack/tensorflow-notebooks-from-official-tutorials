{
 "cells": [
  {
   "cell_type": "code",
   "execution_count": 39,
   "metadata": {},
   "outputs": [],
   "source": [
    "import tensorflow as tf\n",
    "import numpy as np\n",
    "tf.keras.backend.set_floatx('float64')"
   ]
  },
  {
   "cell_type": "code",
   "execution_count": 23,
   "metadata": {},
   "outputs": [],
   "source": [
    "mnist = tf.keras.datasets.mnist\n",
    "(x_train, y_train), (x_test, y_test) = mnist.load_data()"
   ]
  },
  {
   "cell_type": "code",
   "execution_count": 24,
   "metadata": {},
   "outputs": [
    {
     "name": "stdout",
     "output_type": "stream",
     "text": [
      "<class 'numpy.ndarray'> (10000, 28, 28)\n"
     ]
    }
   ],
   "source": [
    "print(type(x_test), x_test.shape)\n",
    "\n",
    "# convert to floating-point numbers\n",
    "x_train, x_test = x_train / 255.0, x_test / 255.0"
   ]
  },
  {
   "cell_type": "code",
   "execution_count": 25,
   "metadata": {},
   "outputs": [],
   "source": [
    "model = tf.keras.models.Sequential([\n",
    "  tf.keras.layers.Flatten(input_shape=(28, 28)),\n",
    "  tf.keras.layers.Dense(128, activation='relu'),\n",
    "  tf.keras.layers.Dropout(0.2),\n",
    "  tf.keras.layers.Dense(10)\n",
    "])"
   ]
  },
  {
   "cell_type": "code",
   "execution_count": 28,
   "metadata": {},
   "outputs": [
    {
     "name": "stdout",
     "output_type": "stream",
     "text": [
      "(1, 28, 28)\n",
      "(1, 10)\n"
     ]
    },
    {
     "data": {
      "text/plain": [
       "array([[ 0.12791818, -0.04258245,  0.52494185,  0.11280438,  0.0072788 ,\n",
       "         0.49925071,  0.02496045,  0.04695788,  0.87702024, -0.20152661]])"
      ]
     },
     "execution_count": 28,
     "metadata": {},
     "output_type": "execute_result"
    }
   ],
   "source": [
    "print(x_train[:1].shape)\n",
    "predictions = model(x_train[:1]).numpy()\n",
    "print(predictions.shape)\n",
    "predictions"
   ]
  },
  {
   "cell_type": "code",
   "execution_count": 31,
   "metadata": {},
   "outputs": [
    {
     "data": {
      "text/plain": [
       "array([[0.08841365, 0.07455415, 0.13150568, 0.08708743, 0.07836575,\n",
       "        0.12817018, 0.07976371, 0.08153775, 0.18700371, 0.06359797]])"
      ]
     },
     "execution_count": 31,
     "metadata": {},
     "output_type": "execute_result"
    }
   ],
   "source": [
    "tf.nn.softmax(predictions).numpy()"
   ]
  },
  {
   "cell_type": "code",
   "execution_count": 41,
   "metadata": {},
   "outputs": [
    {
     "name": "stdout",
     "output_type": "stream",
     "text": [
      "2.054396390914917 2.3025850929940455\n"
     ]
    }
   ],
   "source": [
    "loss_fn = tf.keras.losses.SparseCategoricalCrossentropy(from_logits=True)\n",
    "loss1 = loss_fn(y_train[:1], predictions).numpy()\n",
    "loss2 = -np.log(1/10)\n",
    "print(loss1, loss2)"
   ]
  },
  {
   "cell_type": "code",
   "execution_count": 53,
   "metadata": {},
   "outputs": [
    {
     "name": "stdout",
     "output_type": "stream",
     "text": [
      "Train on 60000 samples\n",
      "Epoch 1/5\n",
      "60000/60000 [==============================] - 21s 345us/sample - loss: 0.0673 - accuracy: 0.9782\n",
      "Epoch 2/5\n",
      "60000/60000 [==============================] - 20s 338us/sample - loss: 0.0603 - accuracy: 0.9807\n",
      "Epoch 3/5\n",
      "60000/60000 [==============================] - 19s 313us/sample - loss: 0.0525 - accuracy: 0.9829\n",
      "Epoch 4/5\n",
      "60000/60000 [==============================] - 25s 409us/sample - loss: 0.0482 - accuracy: 0.9838\n",
      "Epoch 5/5\n",
      "60000/60000 [==============================] - 18s 306us/sample - loss: 0.0426 - accuracy: 0.9856\n"
     ]
    },
    {
     "data": {
      "text/plain": [
       "<tensorflow.python.keras.callbacks.History at 0x1901c0dc888>"
      ]
     },
     "execution_count": 53,
     "metadata": {},
     "output_type": "execute_result"
    }
   ],
   "source": [
    "# Training\n",
    "model.compile(optimizer='adam', \n",
    "              loss=loss_fn, \n",
    "              metrics=['accuracy'])\n",
    "model.fit(x_train, y_train, epochs=5)"
   ]
  },
  {
   "cell_type": "code",
   "execution_count": 47,
   "metadata": {},
   "outputs": [
    {
     "name": "stdout",
     "output_type": "stream",
     "text": [
      "10000/10000 - 1s - loss: 0.0793 - accuracy: 0.9742\n"
     ]
    },
    {
     "data": {
      "text/plain": [
       "[0.07931530644902399, 0.9742]"
      ]
     },
     "execution_count": 47,
     "metadata": {},
     "output_type": "execute_result"
    }
   ],
   "source": [
    "# Evaluating\n",
    "model.evaluate(x_test, y_test, verbose=2)"
   ]
  },
  {
   "cell_type": "code",
   "execution_count": 48,
   "metadata": {},
   "outputs": [],
   "source": [
    "prob_model = tf.keras.Sequential([\n",
    "    model,\n",
    "    tf.keras.layers.Softmax()\n",
    "])"
   ]
  },
  {
   "cell_type": "code",
   "execution_count": 52,
   "metadata": {},
   "outputs": [
    {
     "data": {
      "text/plain": [
       "array([[5.26429055e-07, 1.35682188e-08, 4.11555548e-06, 1.12572166e-04,\n",
       "        3.97678350e-11, 2.55978059e-07, 4.91322300e-11, 9.99879726e-01,\n",
       "        2.10434816e-07, 2.58018154e-06],\n",
       "       [6.92606592e-11, 2.61352715e-04, 9.99700953e-01, 3.01709345e-06,\n",
       "        2.51317876e-14, 2.72054535e-05, 1.16965836e-07, 1.11194925e-11,\n",
       "        7.35465546e-06, 1.25681953e-12],\n",
       "       [7.84550534e-09, 9.98771628e-01, 2.52238802e-04, 5.45237382e-06,\n",
       "        1.32242296e-05, 1.71591532e-06, 3.80728172e-06, 7.77487054e-04,\n",
       "        1.74207327e-04, 2.30894589e-07],\n",
       "       [9.99914902e-01, 4.74302525e-09, 5.72856833e-06, 1.71181292e-07,\n",
       "        1.19839204e-07, 5.26198687e-06, 5.38582249e-05, 5.12283787e-06,\n",
       "        6.43206831e-07, 1.41876313e-05],\n",
       "       [7.56453371e-06, 2.67344286e-09, 3.03998166e-05, 4.52480295e-08,\n",
       "        9.75439383e-01, 3.82708544e-07, 5.35563710e-05, 2.61868130e-05,\n",
       "        6.12503027e-07, 2.44418665e-02]])"
      ]
     },
     "execution_count": 52,
     "metadata": {},
     "output_type": "execute_result"
    }
   ],
   "source": [
    "prob_model(x_test[:5]).numpy()"
   ]
  },
  {
   "cell_type": "code",
   "execution_count": null,
   "metadata": {},
   "outputs": [],
   "source": []
  }
 ],
 "metadata": {
  "kernelspec": {
   "display_name": "Python 3",
   "language": "python",
   "name": "python3"
  },
  "language_info": {
   "codemirror_mode": {
    "name": "ipython",
    "version": 3
   },
   "file_extension": ".py",
   "mimetype": "text/x-python",
   "name": "python",
   "nbconvert_exporter": "python",
   "pygments_lexer": "ipython3",
   "version": "3.7.9"
  }
 },
 "nbformat": 4,
 "nbformat_minor": 4
}
